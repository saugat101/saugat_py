{
 "cells": [
  {
   "cell_type": "code",
   "execution_count": 1,
   "id": "c661aab4",
   "metadata": {},
   "outputs": [],
   "source": [
    "#set\n",
    "#-multiple data\n",
    "#-no duplicate data\n",
    "#-no indexing\n",
    "#-immutable datatype\n",
    "#-unordered"
   ]
  },
  {
   "cell_type": "code",
   "execution_count": 2,
   "id": "9b479539",
   "metadata": {},
   "outputs": [
    {
     "name": "stdout",
     "output_type": "stream",
     "text": [
      "{1, 2, 3, 4, 5, 6, 7, 8, 9}\n"
     ]
    }
   ],
   "source": [
    "s={1,2,3,4,5,6,7,8,9}\n",
    "print(s)"
   ]
  },
  {
   "cell_type": "code",
   "execution_count": 3,
   "id": "eee5a98d",
   "metadata": {},
   "outputs": [
    {
     "name": "stdout",
     "output_type": "stream",
     "text": [
      "{1, 2, 3, 4}\n"
     ]
    }
   ],
   "source": [
    "s={1,1,2,3,4}  #no duplicate data\n",
    "print(s)"
   ]
  },
  {
   "cell_type": "code",
   "execution_count": 4,
   "id": "b9aac0e4",
   "metadata": {},
   "outputs": [
    {
     "name": "stdout",
     "output_type": "stream",
     "text": [
      "{'dog', 'cat', 'ball', 'apple', 'Elephant'}\n"
     ]
    }
   ],
   "source": [
    "s={\"apple\",\"ball\",\"cat\",\"dog\",\"Elephant\"}\n",
    "print(s)"
   ]
  },
  {
   "cell_type": "code",
   "execution_count": 7,
   "id": "cddfb323",
   "metadata": {},
   "outputs": [
    {
     "name": "stdout",
     "output_type": "stream",
     "text": [
      "{('cat', 'dog', 'Apple'), ('Apple', 'ball', 'Apple')}\n"
     ]
    }
   ],
   "source": [
    "#no list dict set indide set(no mutable data)\n",
    "#tuple can be inside set because tuple is immutable\n",
    "s={(\"Apple\",\"ball\",\"Apple\"),(\"cat\",\"dog\",\"Apple\")}\n",
    "print(s)"
   ]
  },
  {
   "cell_type": "code",
   "execution_count": 8,
   "id": "aa0349ac",
   "metadata": {},
   "outputs": [
    {
     "name": "stdout",
     "output_type": "stream",
     "text": [
      "{('Apple', 'ball', 'Apple')}\n"
     ]
    }
   ],
   "source": [
    "s={(\"Apple\",\"ball\",\"Apple\"),(\"Apple\",\"ball\",\"Apple\")}\n",
    "print(s)"
   ]
  },
  {
   "cell_type": "code",
   "execution_count": 9,
   "id": "c257e8eb",
   "metadata": {},
   "outputs": [
    {
     "data": {
      "text/plain": [
       "{1, 2, 3, 4, 5, 6}"
      ]
     },
     "execution_count": 9,
     "metadata": {},
     "output_type": "execute_result"
    }
   ],
   "source": [
    "a={1,2,3}\n",
    "b={4,5,6}\n",
    "#No print(a+b)\n",
    "a.update(b)\n",
    "a"
   ]
  },
  {
   "cell_type": "code",
   "execution_count": 11,
   "id": "f967415b",
   "metadata": {},
   "outputs": [
    {
     "name": "stdout",
     "output_type": "stream",
     "text": [
      "common in  both set =  {'Ram'}\n",
      "Union in both set =  {'jobs', 'Bill', 'Nabin', 'john', 'Ram', 'sameer', 'Gates', 'Shyam'}\n",
      "Working only at ms =  {'Bill', 'john', 'Gates', 'Shyam'}\n",
      "Working only at apple =  {'jobs', 'Nabin', 'sameer'}\n",
      "Unemployed =  {'abc', 'xyz'}\n"
     ]
    }
   ],
   "source": [
    "U={'Ram','Shyam','Bill','Gates','john','jobs','Ram','Nabin','sameer','xyz','abc'}\n",
    "ms = {'Ram','Shyam','Bill','Gates','john'}\n",
    "apple={'jobs','Ram','Nabin','sameer'}\n",
    "print(\"common in  both set = \",ms.intersection(apple))\n",
    "\n",
    "print(\"Union in both set = \",ms.union(apple))\n",
    "\n",
    "print(\"Working only at ms = \",ms - apple)   #ms.difference(apple)\n",
    "\n",
    "print(\"Working only at apple = \",apple - ms)   #apple.difference(ms)\n",
    "\n",
    "print(\"Unemployed = \",U-ms.union(apple))"
   ]
  },
  {
   "cell_type": "code",
   "execution_count": 14,
   "id": "43429f01",
   "metadata": {},
   "outputs": [
    {
     "name": "stdout",
     "output_type": "stream",
     "text": [
      "dog\n",
      "cat\n",
      "ball\n",
      "apple\n",
      "Elephant\n"
     ]
    }
   ],
   "source": [
    "s={\"apple\",\"ball\",\"cat\",\"dog\",\"Elephant\"}\n",
    "for i in s:\n",
    "    print(i)"
   ]
  },
  {
   "cell_type": "code",
   "execution_count": 15,
   "id": "5764f2db",
   "metadata": {},
   "outputs": [
    {
     "data": {
      "text/plain": [
       "dict"
      ]
     },
     "execution_count": 15,
     "metadata": {},
     "output_type": "execute_result"
    }
   ],
   "source": [
    "s = {}\n",
    "type(s)"
   ]
  },
  {
   "cell_type": "code",
   "execution_count": 16,
   "id": "d1ba36d0",
   "metadata": {},
   "outputs": [
    {
     "data": {
      "text/plain": [
       "{'Apple', 'Ball'}"
      ]
     },
     "execution_count": 16,
     "metadata": {},
     "output_type": "execute_result"
    }
   ],
   "source": [
    "s = set()\n",
    "s.add(\"Apple\")\n",
    "s.add(\"Ball\")\n",
    "s"
   ]
  },
  {
   "cell_type": "code",
   "execution_count": 17,
   "id": "f6f87e21",
   "metadata": {},
   "outputs": [
    {
     "data": {
      "text/plain": [
       "{'Ball'}"
      ]
     },
     "execution_count": 17,
     "metadata": {},
     "output_type": "execute_result"
    }
   ],
   "source": [
    "s.remove(\"Apple\")\n",
    "s"
   ]
  },
  {
   "cell_type": "code",
   "execution_count": null,
   "id": "17d726b4",
   "metadata": {},
   "outputs": [],
   "source": []
  }
 ],
 "metadata": {
  "kernelspec": {
   "display_name": "Python 3 (ipykernel)",
   "language": "python",
   "name": "python3"
  },
  "language_info": {
   "codemirror_mode": {
    "name": "ipython",
    "version": 3
   },
   "file_extension": ".py",
   "mimetype": "text/x-python",
   "name": "python",
   "nbconvert_exporter": "python",
   "pygments_lexer": "ipython3",
   "version": "3.11.5"
  }
 },
 "nbformat": 4,
 "nbformat_minor": 5
}
