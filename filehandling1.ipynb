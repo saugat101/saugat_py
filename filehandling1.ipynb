{
 "cells": [
  {
   "cell_type": "code",
   "execution_count": 1,
   "id": "e91bdaa0",
   "metadata": {},
   "outputs": [],
   "source": [
    "#read-> r\n",
    "#write -> w\n",
    "#append -> a\n",
    "#create -> x"
   ]
  },
  {
   "cell_type": "code",
   "execution_count": 2,
   "id": "ef9047ae",
   "metadata": {},
   "outputs": [],
   "source": [
    "#f=open('<file_name>','<mode>')\n",
    "#f.close()\n",
    "\n",
    "#with open('<file_name>','<mode>') as f:\n",
    "#    <operation>"
   ]
  },
  {
   "cell_type": "code",
   "execution_count": 4,
   "id": "83d7f981",
   "metadata": {},
   "outputs": [
    {
     "name": "stdout",
     "output_type": "stream",
     "text": [
      "The file is already created!\n"
     ]
    }
   ],
   "source": [
    "try:\n",
    "    f=open('data.txt','x')\n",
    "    f.close()\n",
    "except:\n",
    "    print(\"The file is already created!\")"
   ]
  },
  {
   "cell_type": "code",
   "execution_count": 7,
   "id": "5dea5d9c",
   "metadata": {},
   "outputs": [
    {
     "name": "stdout",
     "output_type": "stream",
     "text": [
      "1.Hello world\n",
      "2.Hello world\n",
      "3.Hello world\n",
      "4.Hello world\n",
      "5.Hello world\n"
     ]
    }
   ],
   "source": [
    "f=open('data.txt','r')\n",
    "print(f.read())\n",
    "f.close()"
   ]
  },
  {
   "cell_type": "code",
   "execution_count": 8,
   "id": "d9315342",
   "metadata": {},
   "outputs": [
    {
     "name": "stdout",
     "output_type": "stream",
     "text": [
      "1.Hello world\n",
      "2.Hello world\n",
      "3.Hello world\n",
      "4.Hello world\n",
      "5.Hello world\n",
      "<class 'str'>\n"
     ]
    }
   ],
   "source": [
    "f=open('data.txt','r')\n",
    "x=f.read()\n",
    "f.close()\n",
    "print(x)\n",
    "print(type(x))"
   ]
  },
  {
   "cell_type": "code",
   "execution_count": 9,
   "id": "6e9d724c",
   "metadata": {},
   "outputs": [
    {
     "data": {
      "text/plain": [
       "['1.Hello world',\n",
       " '2.Hello world',\n",
       " '3.Hello world',\n",
       " '4.Hello world',\n",
       " '5.Hello world']"
      ]
     },
     "execution_count": 9,
     "metadata": {},
     "output_type": "execute_result"
    }
   ],
   "source": [
    "x.split('\\n')"
   ]
  },
  {
   "cell_type": "code",
   "execution_count": 12,
   "id": "13fe0329",
   "metadata": {},
   "outputs": [],
   "source": [
    "f=open('new_file.txt','w')\n",
    "f.write('Hello world')\n",
    "f.close()"
   ]
  },
  {
   "cell_type": "code",
   "execution_count": 3,
   "id": "d0abf3c6",
   "metadata": {},
   "outputs": [
    {
     "name": "stdout",
     "output_type": "stream",
     "text": [
      "Enter n=2\n",
      "Enter the name of product=coke\n",
      "Enter the price of the product=50\n",
      "Enter quantity=5\n",
      "Enter the name of product=fanta\n",
      "Enter the price of the product=60\n",
      "Enter quantity=7\n",
      "\n",
      "product\tprice\tQty\ttotal\n",
      "coke 50.0 5.0 250.0 \n",
      "fanta 60.0 7.0 420.0 \n",
      "\n",
      "all total price= 670.0\n"
     ]
    }
   ],
   "source": [
    "bill=str()\n",
    "all_total=0\n",
    "n=int(input(\"Enter n=\"))\n",
    "for i in range(n):\n",
    "    name=input(\"Enter the name of product=\")\n",
    "    price=float(input(\"Enter the price of the product=\"))\n",
    "    qty=float(input(\"Enter quantity=\"))\n",
    "    total=price*qty\n",
    "    bill=bill+f\"{name} {price} {qty} {total} \\n\"\n",
    "    all_total=all_total+total\n",
    "    \n",
    "print(f\"\\nproduct\\tprice\\tQty\\ttotal\")\n",
    "print(bill)\n",
    "print(\"all total price=\",all_total)\n",
    "\n",
    "f=open('new_file.txt','w')\n",
    "f.write(\"\\nproduct\\tprice\\tQty\\ttotal\\n\")\n",
    "f.write(bill)\n",
    "f.close()"
   ]
  },
  {
   "cell_type": "code",
   "execution_count": 15,
   "id": "1eca5653",
   "metadata": {},
   "outputs": [
    {
     "data": {
      "text/plain": [
       "'C:\\\\Users\\\\User\\\\python class\\\\file handling'"
      ]
     },
     "execution_count": 15,
     "metadata": {},
     "output_type": "execute_result"
    }
   ],
   "source": [
    "pwd"
   ]
  },
  {
   "cell_type": "code",
   "execution_count": null,
   "id": "c682f95f",
   "metadata": {},
   "outputs": [],
   "source": []
  }
 ],
 "metadata": {
  "kernelspec": {
   "display_name": "Python 3 (ipykernel)",
   "language": "python",
   "name": "python3"
  },
  "language_info": {
   "codemirror_mode": {
    "name": "ipython",
    "version": 3
   },
   "file_extension": ".py",
   "mimetype": "text/x-python",
   "name": "python",
   "nbconvert_exporter": "python",
   "pygments_lexer": "ipython3",
   "version": "3.11.5"
  }
 },
 "nbformat": 4,
 "nbformat_minor": 5
}
