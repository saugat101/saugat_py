{
 "cells": [
  {
   "cell_type": "code",
   "execution_count": 1,
   "id": "91073745",
   "metadata": {},
   "outputs": [
    {
     "ename": "SyntaxError",
     "evalue": "invalid syntax (3620175483.py, line 3)",
     "output_type": "error",
     "traceback": [
      "\u001b[1;36m  Cell \u001b[1;32mIn[1], line 3\u001b[1;36m\u001b[0m\n\u001b[1;33m    -multiple data\u001b[0m\n\u001b[1;37m              ^\u001b[0m\n\u001b[1;31mSyntaxError\u001b[0m\u001b[1;31m:\u001b[0m invalid syntax\n"
     ]
    }
   ],
   "source": [
    "#python collection\n",
    "-list\n",
    "-multiple data\n",
    "-Duplicate data\n",
    "-indexing\n",
    "-mutable datatype"
   ]
  },
  {
   "cell_type": "code",
   "execution_count": 5,
   "id": "3522f312",
   "metadata": {},
   "outputs": [
    {
     "name": "stdout",
     "output_type": "stream",
     "text": [
      "apple\n",
      "['apple', 'ball', 'cat', 'dog']\n",
      "['elephant', 'dog', 'cat', 'ball', 'apple']\n"
     ]
    }
   ],
   "source": [
    "a=[\"apple\",\"ball\",\"cat\",\"dog\",\"elephant\"]\n",
    "b=[1,2,3,4,5,6,7,8]\n",
    "print(a[0])\n",
    "print(a[0:4])\n",
    "print(a[::-1])"
   ]
  },
  {
   "cell_type": "code",
   "execution_count": 7,
   "id": "b74d2804",
   "metadata": {},
   "outputs": [
    {
     "name": "stdout",
     "output_type": "stream",
     "text": [
      "[1, 2, 3, 4, 5, 4, 4, 4]\n"
     ]
    }
   ],
   "source": [
    "a=[1,2,3,4,5]\n",
    "b=[4,4,4]\n",
    "c=a+b\n",
    "print(c)"
   ]
  },
  {
   "cell_type": "code",
   "execution_count": 8,
   "id": "3dddcc1e",
   "metadata": {},
   "outputs": [
    {
     "name": "stdout",
     "output_type": "stream",
     "text": [
      "5\n"
     ]
    }
   ],
   "source": [
    "a=[1,2,3,4,5]\n",
    "b=[4,4,4]\n",
    "e = a[0] + b[0]\n",
    "print(e)"
   ]
  },
  {
   "cell_type": "code",
   "execution_count": 12,
   "id": "afb937a9",
   "metadata": {},
   "outputs": [
    {
     "name": "stdout",
     "output_type": "stream",
     "text": [
      "[1, 2, 3, 4, 5, 6, 1, 2, 3, 4, 5, 6]\n"
     ]
    }
   ],
   "source": [
    "a=[1,2,3,4,5,6]\n",
    "print(a*2)"
   ]
  },
  {
   "cell_type": "code",
   "execution_count": 20,
   "id": "5f75bd40",
   "metadata": {},
   "outputs": [
    {
     "name": "stdout",
     "output_type": "stream",
     "text": [
      "[1, 2, 3, 4]\n"
     ]
    }
   ],
   "source": [
    "#Mutable data type\n",
    "a=[1,2,3]\n",
    "a.append(4)\n",
    "print(a)"
   ]
  },
  {
   "cell_type": "code",
   "execution_count": 17,
   "id": "40521ae0",
   "metadata": {},
   "outputs": [
    {
     "name": "stdout",
     "output_type": "stream",
     "text": [
      "[4, 1, 2, 3]\n"
     ]
    }
   ],
   "source": [
    "a=[1,2,3]\n",
    "a.insert(0,4)\n",
    "print(a)"
   ]
  },
  {
   "cell_type": "code",
   "execution_count": 18,
   "id": "4f0d901d",
   "metadata": {},
   "outputs": [
    {
     "name": "stdout",
     "output_type": "stream",
     "text": [
      "[1, 2, 3, 4, 0, 0, 0]\n"
     ]
    }
   ],
   "source": [
    "a=[1,2,3,4]\n",
    "b=[0,0,0]\n",
    "a.extend(b)\n",
    "print(a)"
   ]
  },
  {
   "cell_type": "code",
   "execution_count": 21,
   "id": "3a03076a",
   "metadata": {},
   "outputs": [
    {
     "data": {
      "text/plain": [
       "[4, 2, 3]"
      ]
     },
     "execution_count": 21,
     "metadata": {},
     "output_type": "execute_result"
    }
   ],
   "source": [
    "#update\n",
    "a=[1,2,3]\n",
    "a[0]=4\n",
    "a"
   ]
  },
  {
   "cell_type": "code",
   "execution_count": 22,
   "id": "3d92df18",
   "metadata": {},
   "outputs": [
    {
     "name": "stdout",
     "output_type": "stream",
     "text": [
      "Enter n=3\n",
      "Enter x = 112\n",
      "[112]\n",
      "Enter x = 112\n",
      "[112, 112]\n",
      "Enter x = 1123\n",
      "[112, 112, 1123]\n"
     ]
    }
   ],
   "source": [
    "a=[]\n",
    "n=int(input(\"Enter n=\"))\n",
    "for i in range(n):\n",
    "    x=int(input(\"Enter x = \"))\n",
    "    a.append(x)\n",
    "\n",
    "    print(a)"
   ]
  },
  {
   "cell_type": "code",
   "execution_count": 23,
   "id": "cf74fbe1",
   "metadata": {},
   "outputs": [
    {
     "name": "stdout",
     "output_type": "stream",
     "text": [
      "The maximum value =  1123\n",
      "The minimum value =  112\n",
      "Sum =  1347\n",
      "[112, 112, 1123]\n",
      "[1123, 112, 112]\n"
     ]
    }
   ],
   "source": [
    "print(\"The maximum value = \",max(a))\n",
    "print(\"The minimum value = \",min(a))\n",
    "print(\"Sum = \",sum(a))\n",
    "a.sort()\n",
    "print(a)\n",
    "a.reverse()\n",
    "print(a)"
   ]
  },
  {
   "cell_type": "code",
   "execution_count": 24,
   "id": "deef8fe4",
   "metadata": {},
   "outputs": [
    {
     "name": "stdout",
     "output_type": "stream",
     "text": [
      "['Ball', 'Dog', 'ant', 'cat']\n"
     ]
    }
   ],
   "source": [
    "a=[\"Ball\",\"ant\",\"cat\",\"Dog\"]\n",
    "a.sort()\n",
    "print(a)"
   ]
  },
  {
   "cell_type": "code",
   "execution_count": 25,
   "id": "94a38ea8",
   "metadata": {},
   "outputs": [
    {
     "data": {
      "text/plain": [
       "[2, 3, 4, 5, 6, 7, 9]"
      ]
     },
     "execution_count": 25,
     "metadata": {},
     "output_type": "execute_result"
    }
   ],
   "source": [
    "a=[9,5,6,7,3,4,2]\n",
    "a.sort()\n",
    "a"
   ]
  },
  {
   "cell_type": "code",
   "execution_count": 2,
   "id": "f02bc138",
   "metadata": {},
   "outputs": [
    {
     "name": "stdout",
     "output_type": "stream",
     "text": [
      "['Ram', 20, 'ktm']\n"
     ]
    }
   ],
   "source": [
    "l=[[\"Ram\",20,\"ktm\"],[\"Hari\",21,\"patan\"],[\"krishna\",20,\"nuwakot\"]]\n",
    "print(l[0])"
   ]
  },
  {
   "cell_type": "code",
   "execution_count": 3,
   "id": "6e436ef3",
   "metadata": {},
   "outputs": [
    {
     "name": "stdout",
     "output_type": "stream",
     "text": [
      "Ram\n"
     ]
    }
   ],
   "source": [
    "print(l[0][0])"
   ]
  },
  {
   "cell_type": "code",
   "execution_count": 4,
   "id": "161cb95e",
   "metadata": {},
   "outputs": [],
   "source": [
    "a=[[\"Ram\",20,\"ktm\"],[\"Hari\",21,\"patan\"],[\"krishna\",20,\"nuwakot\"]]\n",
    "del a[0]"
   ]
  },
  {
   "cell_type": "code",
   "execution_count": 5,
   "id": "588f7114",
   "metadata": {},
   "outputs": [
    {
     "name": "stdout",
     "output_type": "stream",
     "text": [
      "[['Hari', 21, 'patan'], ['krishna', 20, 'nuwakot']]\n"
     ]
    }
   ],
   "source": [
    "print(a)"
   ]
  },
  {
   "cell_type": "code",
   "execution_count": 9,
   "id": "d9098830",
   "metadata": {},
   "outputs": [
    {
     "ename": "TypeError",
     "evalue": "'builtin_function_or_method' object is not subscriptable",
     "output_type": "error",
     "traceback": [
      "\u001b[1;31m---------------------------------------------------------------------------\u001b[0m",
      "\u001b[1;31mTypeError\u001b[0m                                 Traceback (most recent call last)",
      "Cell \u001b[1;32mIn[9], line 2\u001b[0m\n\u001b[0;32m      1\u001b[0m a\u001b[38;5;241m=\u001b[39m[[\u001b[38;5;124m\"\u001b[39m\u001b[38;5;124mRam\u001b[39m\u001b[38;5;124m\"\u001b[39m,\u001b[38;5;241m20\u001b[39m,\u001b[38;5;124m\"\u001b[39m\u001b[38;5;124mktm\u001b[39m\u001b[38;5;124m\"\u001b[39m],[\u001b[38;5;124m\"\u001b[39m\u001b[38;5;124mHari\u001b[39m\u001b[38;5;124m\"\u001b[39m,\u001b[38;5;241m21\u001b[39m,\u001b[38;5;124m\"\u001b[39m\u001b[38;5;124mpatan\u001b[39m\u001b[38;5;124m\"\u001b[39m],[\u001b[38;5;124m\"\u001b[39m\u001b[38;5;124mkrishna\u001b[39m\u001b[38;5;124m\"\u001b[39m,\u001b[38;5;241m20\u001b[39m,\u001b[38;5;124m\"\u001b[39m\u001b[38;5;124mnuwakot\u001b[39m\u001b[38;5;124m\"\u001b[39m]]\n\u001b[1;32m----> 2\u001b[0m b \u001b[38;5;241m=\u001b[39m a\u001b[38;5;241m.\u001b[39mpop[\u001b[38;5;241m0\u001b[39m]\n\u001b[0;32m      3\u001b[0m \u001b[38;5;28mprint\u001b[39m(a)\n\u001b[0;32m      4\u001b[0m \u001b[38;5;28mprint\u001b[39m(b)\n",
      "\u001b[1;31mTypeError\u001b[0m: 'builtin_function_or_method' object is not subscriptable"
     ]
    }
   ],
   "source": [
    "a=[[\"Ram\",20,\"ktm\"],[\"Hari\",21,\"patan\"],[\"krishna\",20,\"nuwakot\"]]\n",
    "b = a.pop[0]\n",
    "print(a)\n",
    "print(b)"
   ]
  },
  {
   "cell_type": "code",
   "execution_count": 1,
   "id": "80b72254",
   "metadata": {},
   "outputs": [
    {
     "name": "stdout",
     "output_type": "stream",
     "text": [
      "Enter n=3\n",
      "Enter name : saugat\n",
      "Enter age = 20\n",
      "Enter add = ktm\n",
      "Enter name : ram\n",
      "Enter age = 30\n",
      "Enter add = ptn\n",
      "Enter name : shyam\n",
      "Enter age = 40\n",
      "Enter add = patan\n",
      "[['saugat', 20, 'ktm'], ['ram', 30, 'ptn'], ['shyam', 40, 'patan']]\n"
     ]
    }
   ],
   "source": [
    "l=[]\n",
    "n=int(input(\"Enter n=\"))\n",
    "for i in range(n):\n",
    "    name = input(\"Enter name : \")\n",
    "    age=int(input(\"Enter age = \"))\n",
    "    add = input(\"Enter add = \")\n",
    "    data=[name,age,add]\n",
    "    l.append(data)\n",
    "    \n",
    "print(l)"
   ]
  },
  {
   "cell_type": "code",
   "execution_count": 7,
   "id": "4948359c",
   "metadata": {},
   "outputs": [
    {
     "name": "stdout",
     "output_type": "stream",
     "text": [
      "Enter name to find information = Ram\n",
      "['Ram', 20, 'ktm']\n"
     ]
    }
   ],
   "source": [
    "info=[[\"Ram\",20,\"ktm\"],[\"Hari\",21,\"patan\"],[\"krishna\",20,\"nuwakot\"]]\n",
    "name=input(\"Enter name to find information = \")\n",
    "for i in info:\n",
    "    if i[0]==name:\n",
    "        print(i)"
   ]
  },
  {
   "cell_type": "code",
   "execution_count": 8,
   "id": "cdad07b1",
   "metadata": {},
   "outputs": [
    {
     "name": "stdout",
     "output_type": "stream",
     "text": [
      "[['Ram', 20, 'ktm'], ['Hari', 21, 'patan'], ['krishna', 20, 'nuwakot']]\n"
     ]
    }
   ],
   "source": [
    "inf0=[['Ram','Shyam','Hari'],[20,22,23],['kathmandu','Bhaktapur','Lalitpur']]\n",
    "print(info)"
   ]
  },
  {
   "cell_type": "code",
   "execution_count": 9,
   "id": "5af8a228",
   "metadata": {},
   "outputs": [],
   "source": [
    "#Wap to create list inside list like above\n",
    "#WAP to create a matrix\n",
    "#r=?\n",
    "#c=?\n",
    "#x=?"
   ]
  },
  {
   "cell_type": "code",
   "execution_count": 10,
   "id": "ae2023c8",
   "metadata": {},
   "outputs": [
    {
     "ename": "SyntaxError",
     "evalue": "invalid syntax. Perhaps you forgot a comma? (1563162645.py, line 2)",
     "output_type": "error",
     "traceback": [
      "\u001b[1;36m  Cell \u001b[1;32mIn[10], line 2\u001b[1;36m\u001b[0m\n\u001b[1;33m    (List inside list)\u001b[0m\n\u001b[1;37m     ^\u001b[0m\n\u001b[1;31mSyntaxError\u001b[0m\u001b[1;31m:\u001b[0m invalid syntax. Perhaps you forgot a comma?\n"
     ]
    }
   ],
   "source": [
    "#tuple\n",
    "(List inside list)\n",
    "(Two dimensional matrix jastai)"
   ]
  },
  {
   "cell_type": "code",
   "execution_count": 11,
   "id": "579bd868",
   "metadata": {},
   "outputs": [
    {
     "ename": "SyntaxError",
     "evalue": "invalid syntax (33666749.py, line 2)",
     "output_type": "error",
     "traceback": [
      "\u001b[1;36m  Cell \u001b[1;32mIn[11], line 2\u001b[1;36m\u001b[0m\n\u001b[1;33m    -multiple data\u001b[0m\n\u001b[1;37m              ^\u001b[0m\n\u001b[1;31mSyntaxError\u001b[0m\u001b[1;31m:\u001b[0m invalid syntax\n"
     ]
    }
   ],
   "source": [
    "#Tuple\n",
    "-multiple data\n",
    "-Duplicate data\n",
    "-indexing\n",
    "-immutable datatype"
   ]
  },
  {
   "cell_type": "code",
   "execution_count": 12,
   "id": "eeaeee69",
   "metadata": {},
   "outputs": [
    {
     "name": "stdout",
     "output_type": "stream",
     "text": [
      "<class 'tuple'> <class 'tuple'>\n"
     ]
    }
   ],
   "source": [
    "a=(1,2,3,4,5,6,7,8,9,9)\n",
    "b=('apple','ball','cat')\n",
    "print(type(a),type(b))"
   ]
  },
  {
   "cell_type": "code",
   "execution_count": 13,
   "id": "40635ef2",
   "metadata": {},
   "outputs": [],
   "source": [
    "#Immutable\n",
    "#No append(),insert(),extend()\n",
    "#No update\n",
    "#No del pop() remove()\n",
    "#No sort()"
   ]
  },
  {
   "cell_type": "code",
   "execution_count": 14,
   "id": "627da626",
   "metadata": {},
   "outputs": [
    {
     "name": "stdout",
     "output_type": "stream",
     "text": [
      "1\n"
     ]
    }
   ],
   "source": [
    "print(a[0])"
   ]
  },
  {
   "cell_type": "code",
   "execution_count": 15,
   "id": "050f2747",
   "metadata": {},
   "outputs": [
    {
     "name": "stdout",
     "output_type": "stream",
     "text": [
      "<class 'int'>\n"
     ]
    }
   ],
   "source": [
    "print(type(a[0]))"
   ]
  },
  {
   "cell_type": "code",
   "execution_count": 16,
   "id": "1f2671d9",
   "metadata": {},
   "outputs": [
    {
     "name": "stdout",
     "output_type": "stream",
     "text": [
      "(1, 2, 3, 4, 5, 6, 7, 8)\n"
     ]
    }
   ],
   "source": [
    "a=(1,2,3,4)\n",
    "b=(5,6,7,8)\n",
    "c=a+b\n",
    "print(c)"
   ]
  },
  {
   "cell_type": "code",
   "execution_count": 19,
   "id": "3bfa4779",
   "metadata": {},
   "outputs": [
    {
     "name": "stdout",
     "output_type": "stream",
     "text": [
      "Enter n = 2\n",
      "Enter x = 1\n",
      "Enter x = 2\n",
      "(1, 2)\n"
     ]
    }
   ],
   "source": [
    "#t=tuple()\n",
    "t = ()\n",
    "n=int(input(\"Enter n = \"))\n",
    "for i in range(n):\n",
    "    x=int(input(\"Enter x = \"))\n",
    "    t=t+(x,)\n",
    "print(t)"
   ]
  },
  {
   "cell_type": "code",
   "execution_count": 4,
   "id": "a4e5a3cc",
   "metadata": {},
   "outputs": [
    {
     "name": "stdout",
     "output_type": "stream",
     "text": [
      "[1, 2, 3, 4]\n"
     ]
    }
   ],
   "source": [
    "a=(1,2,3,4)\n",
    "l=list(a)\n",
    "print(l)"
   ]
  },
  {
   "cell_type": "code",
   "execution_count": 6,
   "id": "d912654d",
   "metadata": {},
   "outputs": [
    {
     "name": "stdout",
     "output_type": "stream",
     "text": [
      "(1, 2, 3, 4, 5)\n"
     ]
    }
   ],
   "source": [
    "a=(1,2,3,4)\n",
    "l=list(a)\n",
    "l.append(5)\n",
    "a=tuple(l)\n",
    "print(a)"
   ]
  },
  {
   "cell_type": "code",
   "execution_count": 7,
   "id": "28caa2f6",
   "metadata": {},
   "outputs": [],
   "source": [
    "#tuple inside tuple\n",
    "t=((1,2,3),(4,5,6),(7,8,9))\n",
    "#WAP to create list inside tuple"
   ]
  },
  {
   "cell_type": "code",
   "execution_count": 9,
   "id": "63950ca5",
   "metadata": {},
   "outputs": [
    {
     "name": "stderr",
     "output_type": "stream",
     "text": [
      "<>:1: SyntaxWarning: 'tuple' object is not callable; perhaps you missed a comma?\n",
      "<>:1: SyntaxWarning: 'tuple' object is not callable; perhaps you missed a comma?\n",
      "C:\\Users\\User\\AppData\\Local\\Temp\\ipykernel_17004\\525186121.py:1: SyntaxWarning: 'tuple' object is not callable; perhaps you missed a comma?\n",
      "  l=[(1,2,3),(4,5,6)(7,8,9)]\n"
     ]
    },
    {
     "ename": "TypeError",
     "evalue": "'tuple' object is not callable",
     "output_type": "error",
     "traceback": [
      "\u001b[1;31m---------------------------------------------------------------------------\u001b[0m",
      "\u001b[1;31mTypeError\u001b[0m                                 Traceback (most recent call last)",
      "Cell \u001b[1;32mIn[9], line 1\u001b[0m\n\u001b[1;32m----> 1\u001b[0m l\u001b[38;5;241m=\u001b[39m[(\u001b[38;5;241m1\u001b[39m,\u001b[38;5;241m2\u001b[39m,\u001b[38;5;241m3\u001b[39m),(\u001b[38;5;241m4\u001b[39m,\u001b[38;5;241m5\u001b[39m,\u001b[38;5;241m6\u001b[39m)(\u001b[38;5;241m7\u001b[39m,\u001b[38;5;241m8\u001b[39m,\u001b[38;5;241m9\u001b[39m)]\n",
      "\u001b[1;31mTypeError\u001b[0m: 'tuple' object is not callable"
     ]
    }
   ],
   "source": [
    "l=[(1,2,3),(4,5,6)(7,8,9)]\n",
    "#WAP to create list inside tuple"
   ]
  },
  {
   "cell_type": "code",
   "execution_count": 1,
   "id": "552eea94",
   "metadata": {},
   "outputs": [],
   "source": [
    "#dictionary\n",
    "# -Multiple data\n",
    "# -Duplicate data\n",
    "# -Indexing \n",
    "# -Mutable datatype\n"
   ]
  },
  {
   "cell_type": "code",
   "execution_count": 2,
   "id": "702d06fd",
   "metadata": {},
   "outputs": [],
   "source": [
    "# d={<key>:<value>,<key>:<value>....}"
   ]
  },
  {
   "cell_type": "code",
   "execution_count": 3,
   "id": "b619bf25",
   "metadata": {},
   "outputs": [
    {
     "name": "stdout",
     "output_type": "stream",
     "text": [
      "Apple\n",
      "ball\n"
     ]
    }
   ],
   "source": [
    "d={'a':'Apple','b':'ball','c':'cat'}\n",
    "print(d['a'])\n",
    "print(d['b'])"
   ]
  },
  {
   "cell_type": "code",
   "execution_count": 4,
   "id": "859b28a4",
   "metadata": {},
   "outputs": [
    {
     "name": "stdout",
     "output_type": "stream",
     "text": [
      "Apple\n",
      "ball\n",
      "{'a': 'Apple', 'b': 'ball', 'c': 'cat', 'A': 'Ant'}\n"
     ]
    }
   ],
   "source": [
    "d={'a':'Apple','b':'ball','c':'cat','A':'Ant'}\n",
    "print(d['a'])\n",
    "print(d['b'])\n",
    "print(d)"
   ]
  },
  {
   "cell_type": "code",
   "execution_count": 1,
   "id": "96624e2c",
   "metadata": {},
   "outputs": [
    {
     "ename": "NameError",
     "evalue": "name 'd' is not defined",
     "output_type": "error",
     "traceback": [
      "\u001b[1;31m---------------------------------------------------------------------------\u001b[0m",
      "\u001b[1;31mNameError\u001b[0m                                 Traceback (most recent call last)",
      "Cell \u001b[1;32mIn[1], line 1\u001b[0m\n\u001b[1;32m----> 1\u001b[0m \u001b[38;5;28mlen\u001b[39m(d)\n",
      "\u001b[1;31mNameError\u001b[0m: name 'd' is not defined"
     ]
    }
   ],
   "source": [
    "len(d)"
   ]
  },
  {
   "cell_type": "code",
   "execution_count": 6,
   "id": "46e2a520",
   "metadata": {},
   "outputs": [
    {
     "data": {
      "text/plain": [
       "{'Ram': 9860376537, 'shyam': 9845345037, 'tom': 9845675731}"
      ]
     },
     "execution_count": 6,
     "metadata": {},
     "output_type": "execute_result"
    }
   ],
   "source": [
    "# d= dict()\n",
    "d={}\n",
    "d['Ram']=9860376537\n",
    "d['shyam']=9845345037\n",
    "d['tom']=9845675731\n",
    "d"
   ]
  },
  {
   "cell_type": "code",
   "execution_count": 8,
   "id": "9c5b4ab7",
   "metadata": {},
   "outputs": [
    {
     "name": "stdout",
     "output_type": "stream",
     "text": [
      "Enter n= 3\n",
      "Enter name : ram\n",
      "Enter phone number : 9876543210\n",
      "Enter name : shyam\n",
      "Enter phone number : 9876509876\n",
      "Enter name : Hari\n",
      "Enter phone number : 98765234567\n",
      "{'ram': '9876543210', 'shyam': '9876509876', 'Hari': '98765234567'}\n"
     ]
    }
   ],
   "source": [
    "d={}\n",
    "n=int(input(\"Enter n= \"))\n",
    "for i in range(n):\n",
    "    name=input(\"Enter name : \")\n",
    "    phone=input(\"Enter phone number : \")\n",
    "    d[name]=phone\n",
    "print(d)"
   ]
  },
  {
   "cell_type": "code",
   "execution_count": 12,
   "id": "3cda6f89",
   "metadata": {},
   "outputs": [
    {
     "name": "stdout",
     "output_type": "stream",
     "text": [
      "{'a': 'Apple', 'c': 'cat'}\n"
     ]
    }
   ],
   "source": [
    "d={'a':'Apple','b':'ball','c':'cat'}\n",
    "del d['b']\n",
    "print(d)"
   ]
  },
  {
   "cell_type": "code",
   "execution_count": 15,
   "id": "5952fadd",
   "metadata": {},
   "outputs": [
    {
     "name": "stdout",
     "output_type": "stream",
     "text": [
      "{'b': 'ball', 'c': 'cat'}\n",
      "Apple\n"
     ]
    }
   ],
   "source": [
    "d={'a':'Apple','b':'ball','c':'cat'}\n",
    "b=d.pop('a')\n",
    "print(d)\n",
    "print(b)"
   ]
  },
  {
   "cell_type": "code",
   "execution_count": 5,
   "id": "e206a803",
   "metadata": {},
   "outputs": [
    {
     "name": "stdout",
     "output_type": "stream",
     "text": [
      "Ram\n",
      "Shyam\n",
      "Hari\n"
     ]
    }
   ],
   "source": [
    "a=['Ram','Shyam','Hari']\n",
    "for i in a:\n",
    "    print(i)"
   ]
  },
  {
   "cell_type": "code",
   "execution_count": 8,
   "id": "0943aa5a",
   "metadata": {},
   "outputs": [
    {
     "name": "stdout",
     "output_type": "stream",
     "text": [
      "ram\n",
      "shyam\n",
      "Hari\n",
      "9876543210\n",
      "9876509876\n",
      "98765234567\n",
      "('ram', '9876543210')\n",
      "('shyam', '9876509876')\n",
      "('Hari', '98765234567')\n"
     ]
    }
   ],
   "source": [
    "#for keys only\n",
    "a={'ram': '9876543210', 'shyam': '9876509876', 'Hari': '98765234567'}\n",
    "for i in a:\n",
    "    print(i)\n",
    "#for values only\n",
    "for i in a.values():\n",
    "    print(i)\n",
    "#for both\n",
    "for i in a.items():\n",
    "    print(i)\n",
    "    "
   ]
  },
  {
   "cell_type": "code",
   "execution_count": 9,
   "id": "26337038",
   "metadata": {},
   "outputs": [
    {
     "name": "stdout",
     "output_type": "stream",
     "text": [
      "{'shyam': '9876509876', 'Hari': '98765234567'}\n"
     ]
    }
   ],
   "source": [
    "a={'ram': '9876543210', 'shyam': '9876509876', 'Hari': '98765234567'}\n",
    "del a['ram']\n",
    "print(a)"
   ]
  },
  {
   "cell_type": "code",
   "execution_count": 10,
   "id": "f75579eb",
   "metadata": {},
   "outputs": [
    {
     "name": "stdout",
     "output_type": "stream",
     "text": [
      "{'shyam': '9876509876', 'Hari': '98765234567'}\n",
      "9876543210\n"
     ]
    }
   ],
   "source": [
    "a={'ram': '9876543210', 'shyam': '9876509876', 'Hari': '98765234567'}\n",
    "b=a.pop('ram')\n",
    "print(a)\n",
    "print(b)"
   ]
  },
  {
   "cell_type": "code",
   "execution_count": 13,
   "id": "fb326fce",
   "metadata": {},
   "outputs": [
    {
     "name": "stdout",
     "output_type": "stream",
     "text": [
      "Enter name : ram\n",
      "Enter phone number : 9858768990\n",
      "{'ram': '9858768990'}\n"
     ]
    }
   ],
   "source": [
    "a={input(\"Enter name : \"):input(\"Enter phone number : \")}\n",
    "print(a)"
   ]
  },
  {
   "cell_type": "code",
   "execution_count": 15,
   "id": "68895409",
   "metadata": {},
   "outputs": [
    {
     "name": "stdout",
     "output_type": "stream",
     "text": [
      "{'name': ['Ram', 'Shyam', 'Hari'], 'ntc': ['987654378', '87653899', '9098654356'], 'ncell': ['98765546747', '9376355363', '937363538']}\n"
     ]
    }
   ],
   "source": [
    "a={'name':['Ram','Shyam','Hari'],'ntc':['987654378','87653899','9098654356'],'ncell':['98765546747','9376355363','937363538']}\n",
    "print(a)"
   ]
  },
  {
   "cell_type": "code",
   "execution_count": 16,
   "id": "18f01918",
   "metadata": {},
   "outputs": [
    {
     "name": "stdout",
     "output_type": "stream",
     "text": [
      "Enter n : 2\n",
      "Enter name : ram\n",
      "Enter ntc number : 9876544326\n",
      "Enter ncell number : 98754563737\n",
      "Enter name : shyam\n",
      "Enter ntc number : 093847723\n",
      "Enter ncell number : 9827346934\n",
      "{'ram': ['9876544326', '98754563737'], 'shyam': ['093847723', '9827346934']}\n"
     ]
    }
   ],
   "source": [
    "#list inside dictionary\n",
    "d={}\n",
    "n=int(input(\"Enter n : \"))\n",
    "for i in range(n):\n",
    "    name = input(\"Enter name : \")\n",
    "    ntc = input(\"Enter ntc number : \")\n",
    "    ncell = input(\"Enter ncell number : \")\n",
    "    d[name]=[ntc,ncell]\n",
    "print(d)"
   ]
  },
  {
   "cell_type": "code",
   "execution_count": 17,
   "id": "83dc60d1",
   "metadata": {},
   "outputs": [
    {
     "name": "stdout",
     "output_type": "stream",
     "text": [
      "['9876544326', '98754563737']\n"
     ]
    }
   ],
   "source": [
    "print(d['ram'])"
   ]
  },
  {
   "cell_type": "code",
   "execution_count": 19,
   "id": "029aced5",
   "metadata": {},
   "outputs": [
    {
     "name": "stdout",
     "output_type": "stream",
     "text": [
      "Ntc number of ram :  9876544326\n"
     ]
    }
   ],
   "source": [
    "print(\"Ntc number of ram : \",d['ram'][0])"
   ]
  },
  {
   "cell_type": "code",
   "execution_count": 21,
   "id": "4ce36d50",
   "metadata": {},
   "outputs": [
    {
     "name": "stdout",
     "output_type": "stream",
     "text": [
      "Enter n : 2\n",
      "Enter name : saugat\n",
      "Enter ntc number : 9373535\n",
      "Enter ncell number : 836353435\n",
      "Enter name : ram\n",
      "Enter ntc number : 936353535\n",
      "Enter ncell number : 876353436387\n",
      "{'name': ['saugat', 'ram'], 'ntc': ['9373535', '936353535'], 'ncell': ['836353435', '876353436387']}\n"
     ]
    }
   ],
   "source": [
    "d={'name':[],'ntc':[],'ncell':[]}\n",
    "n=int(input(\"Enter n : \"))\n",
    "for i in range(n):\n",
    "    name = input(\"Enter name : \")\n",
    "    ntc = input(\"Enter ntc number : \")\n",
    "    ncell = input(\"Enter ncell number : \")\n",
    "    d['name'].append(name)\n",
    "    d['ntc'].append(ntc)\n",
    "    d['ncell'].append(ncell)\n",
    "print(d)"
   ]
  },
  {
   "cell_type": "code",
   "execution_count": 22,
   "id": "25267aac",
   "metadata": {},
   "outputs": [
    {
     "name": "stdout",
     "output_type": "stream",
     "text": [
      "saugat\n",
      "9373535\n",
      "836353435\n"
     ]
    }
   ],
   "source": [
    "a={'name': ['saugat', 'ram'], \n",
    "   'ntc': ['9373535', '936353535'], \n",
    "   'ncell': ['836353435', '876353436387']}\n",
    "print(d['name'][0])\n",
    "print(d['ntc'][0])\n",
    "print(d['ncell'][0])"
   ]
  },
  {
   "cell_type": "code",
   "execution_count": 37,
   "id": "ecc4d520",
   "metadata": {},
   "outputs": [
    {
     "name": "stdout",
     "output_type": "stream",
     "text": [
      "{'name': ['ram'], 'ntc': ['936353535'], 'ncell': ['876353436387']}\n"
     ]
    }
   ],
   "source": [
    "d={'name': ['saugat', 'ram'], \n",
    "   'ntc': ['9373535', '936353535'], \n",
    "   'ncell': ['836353435', '876353436387']}\n",
    "del d['name'][0]\n",
    "del d['ntc'][0]\n",
    "del d['ncell'][0]\n",
    "print(d)"
   ]
  },
  {
   "cell_type": "code",
   "execution_count": 2,
   "id": "aec24183",
   "metadata": {},
   "outputs": [
    {
     "name": "stdout",
     "output_type": "stream",
     "text": [
      "[{'name': 'Ram', 'age': 34, 'address': 'ktm'}, {'name': 'shyam', 'age': 35, 'address': 'ptn'}, {'name': 'ghanshyam', 'age': 36, 'address': 'bkt'}]\n"
     ]
    }
   ],
   "source": [
    "#dictionary inside list \n",
    "l=[{'name':'Ram','age':34,'address':'ktm'},\n",
    "   {'name':'shyam','age':35,'address':'ptn'},\n",
    "   {'name':'ghanshyam','age':36,'address':'bkt'}]\n",
    "print(l)"
   ]
  },
  {
   "cell_type": "code",
   "execution_count": 3,
   "id": "7702d5ff",
   "metadata": {},
   "outputs": [
    {
     "name": "stdout",
     "output_type": "stream",
     "text": [
      "{'name': 'ghanshyam', 'age': 36, 'address': 'bkt'}\n"
     ]
    }
   ],
   "source": [
    "print(l[2])"
   ]
  },
  {
   "cell_type": "code",
   "execution_count": 6,
   "id": "8735576a",
   "metadata": {},
   "outputs": [
    {
     "name": "stdout",
     "output_type": "stream",
     "text": [
      "ghanshyam\n"
     ]
    }
   ],
   "source": [
    "print(l[2]['name'])"
   ]
  },
  {
   "cell_type": "code",
   "execution_count": 7,
   "id": "ce5f75ff",
   "metadata": {},
   "outputs": [
    {
     "name": "stdout",
     "output_type": "stream",
     "text": [
      "{'name': 'Ram', 'age': 34, 'address': 'ktm'}\n",
      "{'name': 'shyam', 'age': 35, 'address': 'ptn'}\n",
      "{'name': 'ghanshyam', 'age': 36, 'address': 'bkt'}\n"
     ]
    }
   ],
   "source": [
    "for i in l:\n",
    "    print(i)"
   ]
  },
  {
   "cell_type": "code",
   "execution_count": 8,
   "id": "1913d8f8",
   "metadata": {},
   "outputs": [
    {
     "name": "stdout",
     "output_type": "stream",
     "text": [
      "[('name', 'Ram'), ('age', 34), ('address', 'ktm')]\n",
      "[('name', 'shyam'), ('age', 35), ('address', 'ptn')]\n",
      "[('name', 'ghanshyam'), ('age', 36), ('address', 'bkt')]\n"
     ]
    }
   ],
   "source": [
    "for i in l:\n",
    "    print(list(i.items()))"
   ]
  },
  {
   "cell_type": "code",
   "execution_count": 9,
   "id": "a71d1120",
   "metadata": {},
   "outputs": [
    {
     "name": "stdout",
     "output_type": "stream",
     "text": [
      "python version\n"
     ]
    }
   ],
   "source": [
    "print('python version')"
   ]
  },
  {
   "cell_type": "code",
   "execution_count": 13,
   "id": "eb0a0c86",
   "metadata": {},
   "outputs": [
    {
     "ename": "NameError",
     "evalue": "name 'version_info' is not defined",
     "output_type": "error",
     "traceback": [
      "\u001b[1;31m---------------------------------------------------------------------------\u001b[0m",
      "\u001b[1;31mNameError\u001b[0m                                 Traceback (most recent call last)",
      "Cell \u001b[1;32mIn[13], line 1\u001b[0m\n\u001b[1;32m----> 1\u001b[0m \u001b[38;5;28mprint\u001b[39m(version_info)\n",
      "\u001b[1;31mNameError\u001b[0m: name 'version_info' is not defined"
     ]
    }
   ],
   "source": [
    "print(version_info)"
   ]
  },
  {
   "cell_type": "code",
   "execution_count": 14,
   "id": "7b64b19b",
   "metadata": {},
   "outputs": [
    {
     "name": "stdout",
     "output_type": "stream",
     "text": [
      "input number of n : 2\n",
      "Enter name : ram\n",
      "Enter age 34\n",
      "Enter address : ktm\n",
      "Enter name : shyam\n",
      "Enter age 35\n",
      "Enter address : patan\n",
      "[{'name': 'ram', 'age': 34, 'address': 'ktm'}, {'name': 'shyam', 'age': 35, 'address': 'patan'}]\n"
     ]
    }
   ],
   "source": [
    "l=[]\n",
    "n=int(input('input number of n : '))\n",
    "for i in range(n):\n",
    "    name = input('Enter name : ')\n",
    "    age = int(input('Enter age '))\n",
    "    address = input('Enter address : ')\n",
    "    info={'name':name,'age':age,'address':address}\n",
    "    l.append(info)\n",
    "print(l)"
   ]
  },
  {
   "cell_type": "code",
   "execution_count": 17,
   "id": "e4cb3ed8",
   "metadata": {},
   "outputs": [
    {
     "name": "stdout",
     "output_type": "stream",
     "text": [
      "[{'name': 'Ram', 'age': 34, 'address': 'ktm', 'phone': 984876345353}, {'name': 'shyam', 'age': 35, 'address': 'ptn'}, {'name': 'ghanshyam', 'age': 36, 'address': 'bkt'}]\n"
     ]
    }
   ],
   "source": [
    "l=[{'name':'Ram','age':34,'address':'ktm'},\n",
    "   {'name':'shyam','age':35,'address':'ptn'},\n",
    "   {'name':'ghanshyam','age':36,'address':'bkt'}]\n",
    "l[0]['phone']=984876345353\n",
    "print(l)"
   ]
  },
  {
   "cell_type": "code",
   "execution_count": 25,
   "id": "71dd5c26",
   "metadata": {},
   "outputs": [
    {
     "name": "stdout",
     "output_type": "stream",
     "text": [
      "36\n"
     ]
    }
   ],
   "source": [
    "print(l[2]['age'])"
   ]
  },
  {
   "cell_type": "code",
   "execution_count": 27,
   "id": "f9864d0b",
   "metadata": {},
   "outputs": [
    {
     "name": "stdout",
     "output_type": "stream",
     "text": [
      "['Ram', 34, 'ktm', 984876345353]\n"
     ]
    }
   ],
   "source": [
    "for i in l[0:1]:\n",
    "    print(list(i.values()))"
   ]
  },
  {
   "cell_type": "markdown",
   "id": "326a0fcb",
   "metadata": {},
   "source": [
    "for i in l[0:2]:\n",
    "    print(list(i.values()))"
   ]
  },
  {
   "cell_type": "code",
   "execution_count": 28,
   "id": "433161d8",
   "metadata": {},
   "outputs": [
    {
     "name": "stdout",
     "output_type": "stream",
     "text": [
      "['Ram', 34, 'ktm', 984876345353]\n",
      "['shyam', 35, 'ptn']\n"
     ]
    }
   ],
   "source": [
    "for i in l[0:2]:\n",
    "    print(list(i.values()))"
   ]
  },
  {
   "cell_type": "code",
   "execution_count": 29,
   "id": "28e93eb5",
   "metadata": {},
   "outputs": [
    {
     "name": "stdout",
     "output_type": "stream",
     "text": [
      "['Ram', 34, 'ktm', 984876345353]\n",
      "['shyam', 35, 'ptn']\n",
      "['ghanshyam', 36, 'bkt']\n"
     ]
    }
   ],
   "source": [
    "for i in l[0:3]:\n",
    "    print(list(i.values()))"
   ]
  },
  {
   "cell_type": "code",
   "execution_count": 32,
   "id": "17c75d2a",
   "metadata": {},
   "outputs": [
    {
     "name": "stdout",
     "output_type": "stream",
     "text": [
      "3\n"
     ]
    }
   ],
   "source": [
    "print(len(l))"
   ]
  },
  {
   "cell_type": "code",
   "execution_count": 37,
   "id": "8e5ad8d5",
   "metadata": {},
   "outputs": [
    {
     "name": "stdout",
     "output_type": "stream",
     "text": [
      "Enter phone number : 56876\n",
      "Enter phone number : 6788\n",
      "Enter phone number : 75545\n",
      "[{'name': 'Ram', 'age': 34, 'address': 'ktm', 'phone': 56876}, {'name': 'shyam', 'age': 35, 'address': 'ptn', 'phone': 6788}, {'name': 'ghanshyam', 'age': 36, 'address': 'bkt', 'phone': 75545}]\n"
     ]
    }
   ],
   "source": [
    "l=[{'name':'Ram','age':34,'address':'ktm'},\n",
    "   {'name':'shyam','age':35,'address':'ptn'},\n",
    "   {'name':'ghanshyam','age':36,'address':'bkt'}]\n",
    "for i in range(len(l)):\n",
    "    l[i]['phone']=int(input('Enter phone number : '))\n",
    "\n",
    "print(l)"
   ]
  },
  {
   "cell_type": "code",
   "execution_count": 40,
   "id": "9541aa86",
   "metadata": {},
   "outputs": [
    {
     "data": {
      "text/plain": [
       "{'a': 'apple', 'b': 'ball', 'c': 'cat'}"
      ]
     },
     "execution_count": 40,
     "metadata": {},
     "output_type": "execute_result"
    }
   ],
   "source": [
    "l=[['a','apple'],['b','ball'],['c','cat']]\n",
    "dict(l)"
   ]
  },
  {
   "cell_type": "code",
   "execution_count": 46,
   "id": "e74a751f",
   "metadata": {},
   "outputs": [
    {
     "name": "stdout",
     "output_type": "stream",
     "text": [
      "ptn\n"
     ]
    }
   ],
   "source": [
    "l=[{'name':'Ram','age':34,'address':['ktm','nuwakot']},\n",
    "   {'name':'shyam','age':35,'address':['ptn','jhapa']},\n",
    "   {'name':'ghanshyam','age':36,'address':['bkt','dang']}]\n",
    "len(l)\n",
    "print(l[1]['address'][0])"
   ]
  },
  {
   "cell_type": "code",
   "execution_count": 50,
   "id": "d904b2c5",
   "metadata": {},
   "outputs": [
    {
     "name": "stdout",
     "output_type": "stream",
     "text": [
      "Ram\n",
      "['ktm', 'nuwakot']\n",
      "ktm\n",
      "nuwakot\n"
     ]
    }
   ],
   "source": [
    "d={'name':'Ram','age':34,'address':['ktm','nuwakot']}\n",
    "print(d['name'])\n",
    "print(d['address'])\n",
    "print(d['address'][0])\n",
    "print(d['address'][1])"
   ]
  },
  {
   "cell_type": "code",
   "execution_count": 51,
   "id": "514c415d",
   "metadata": {},
   "outputs": [
    {
     "ename": "SyntaxError",
     "evalue": "invalid syntax (4220942297.py, line 1)",
     "output_type": "error",
     "traceback": [
      "\u001b[1;36m  Cell \u001b[1;32mIn[51], line 1\u001b[1;36m\u001b[0m\n\u001b[1;33m    Dict inside dict\u001b[0m\n\u001b[1;37m         ^\u001b[0m\n\u001b[1;31mSyntaxError\u001b[0m\u001b[1;31m:\u001b[0m invalid syntax\n"
     ]
    }
   ],
   "source": [
    "Dict inside dict"
   ]
  },
  {
   "cell_type": "code",
   "execution_count": null,
   "id": "ef6c9bbf",
   "metadata": {},
   "outputs": [],
   "source": []
  }
 ],
 "metadata": {
  "kernelspec": {
   "display_name": "Python 3 (ipykernel)",
   "language": "python",
   "name": "python3"
  },
  "language_info": {
   "codemirror_mode": {
    "name": "ipython",
    "version": 3
   },
   "file_extension": ".py",
   "mimetype": "text/x-python",
   "name": "python",
   "nbconvert_exporter": "python",
   "pygments_lexer": "ipython3",
   "version": "3.11.5"
  }
 },
 "nbformat": 4,
 "nbformat_minor": 5
}
