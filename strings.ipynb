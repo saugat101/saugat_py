{
 "cells": [
  {
   "cell_type": "code",
   "execution_count": 1,
   "id": "589cdeb9",
   "metadata": {},
   "outputs": [
    {
     "name": "stdout",
     "output_type": "stream",
     "text": [
      "The number is palindrome\n"
     ]
    }
   ],
   "source": [
    "a=\"1001\"\n",
    "if a==a[::-1]:\n",
    "    print(\"The number is palindrome\")\n",
    "else:\n",
    "    print(\"The number is not palindrome\")"
   ]
  },
  {
   "cell_type": "code",
   "execution_count": 4,
   "id": "53233412",
   "metadata": {},
   "outputs": [
    {
     "name": "stdout",
     "output_type": "stream",
     "text": [
      "Hello I am ram I am 34 years old and i am from kathmandu\n"
     ]
    }
   ],
   "source": [
    "name=\"ram\"\n",
    "age=34\n",
    "add=\"kathmandu\"\n",
    "info=\"Hello I am \"+name+\" I am \"+str(age)+\" years old and i am from \"+add\n",
    "print(info)"
   ]
  },
  {
   "cell_type": "code",
   "execution_count": 8,
   "id": "f9baf848",
   "metadata": {},
   "outputs": [
    {
     "name": "stdout",
     "output_type": "stream",
     "text": [
      "Hello I am ram I am 34 years old and i am from kathmandu\n"
     ]
    }
   ],
   "source": [
    "name=\"ram\"\n",
    "age=34\n",
    "add=\"kathmandu\"\n",
    "info=f\"Hello I am {name} I am {age} years old and i am from {add}\"\n",
    "print(info)"
   ]
  },
  {
   "cell_type": "code",
   "execution_count": 15,
   "id": "43588c90",
   "metadata": {},
   "outputs": [
    {
     "name": "stdout",
     "output_type": "stream",
     "text": [
      "enter name to search : Ram\n",
      "Yes\n",
      "3\n"
     ]
    }
   ],
   "source": [
    "#Search in string\n",
    "names=\"Ram Ram sita hari gita shyam Ramesh\"\n",
    "search=input(\"enter name to search : \")\n",
    "if search in names:\n",
    "    print(\"Yes\")\n",
    "    print(names.count(search))\n",
    "else:\n",
    "    print(\"No\")"
   ]
  },
  {
   "cell_type": "code",
   "execution_count": 13,
   "id": "a17bcb8f",
   "metadata": {},
   "outputs": [
    {
     "name": "stdout",
     "output_type": "stream",
     "text": [
      "ram ram sita hari gita shyam ramesh\n",
      "RAM RAM SITA HARI GITA SHYAM RAMESH\n"
     ]
    }
   ],
   "source": [
    "names=\"Ram Ram sita hari gita shyam Ramesh\"\n",
    "print(names.lower())\n",
    "print(names.upper())"
   ]
  },
  {
   "cell_type": "code",
   "execution_count": 16,
   "id": "b479d6fb",
   "metadata": {},
   "outputs": [
    {
     "name": "stdout",
     "output_type": "stream",
     "text": [
      "ram ram sita hari gita shyam ramesh\n"
     ]
    },
    {
     "data": {
      "text/plain": [
       "'Ram Ram sita hari gita shyam Ramesh'"
      ]
     },
     "execution_count": 16,
     "metadata": {},
     "output_type": "execute_result"
    }
   ],
   "source": [
    "names=\"Ram Ram sita hari gita shyam Ramesh\"\n",
    "print(names.lower())\n",
    "names"
   ]
  },
  {
   "cell_type": "code",
   "execution_count": 19,
   "id": "9bdcc3d1",
   "metadata": {},
   "outputs": [
    {
     "data": {
      "text/plain": [
       "<function str.title()>"
      ]
     },
     "execution_count": 19,
     "metadata": {},
     "output_type": "execute_result"
    }
   ],
   "source": [
    "a='Ram Ram sita hari gita shyam Ramesh'\n",
    "a.title"
   ]
  },
  {
   "cell_type": "code",
   "execution_count": 27,
   "id": "6be235a2",
   "metadata": {},
   "outputs": [
    {
     "name": "stdout",
     "output_type": "stream",
     "text": [
      "h"
     ]
    },
    {
     "ename": "IndexError",
     "evalue": "string index out of range",
     "output_type": "error",
     "traceback": [
      "\u001b[1;31m---------------------------------------------------------------------------\u001b[0m",
      "\u001b[1;31mIndexError\u001b[0m                                Traceback (most recent call last)",
      "Cell \u001b[1;32mIn[27], line 5\u001b[0m\n\u001b[0;32m      3\u001b[0m i\u001b[38;5;241m=\u001b[39m\u001b[38;5;241m0\u001b[39m\n\u001b[0;32m      4\u001b[0m \u001b[38;5;28;01mwhile\u001b[39;00m i\u001b[38;5;241m>\u001b[39m\u001b[38;5;241m=\u001b[39m\u001b[38;5;241m0\u001b[39m:\n\u001b[1;32m----> 5\u001b[0m     \u001b[38;5;28mprint\u001b[39m(a[i],end\u001b[38;5;241m=\u001b[39m\u001b[38;5;124m'\u001b[39m\u001b[38;5;124m'\u001b[39m)\n\u001b[0;32m      6\u001b[0m     i\u001b[38;5;241m=\u001b[39mi\u001b[38;5;241m+\u001b[39ml\n",
      "\u001b[1;31mIndexError\u001b[0m: string index out of range"
     ]
    }
   ],
   "source": [
    "a=\"hello world\"\n",
    "l=len(a)\n",
    "i=0\n",
    "while i>=0:\n",
    "    print(a[i],end='')\n",
    "    i=i+l"
   ]
  },
  {
   "cell_type": "code",
   "execution_count": null,
   "id": "cc694aaf",
   "metadata": {},
   "outputs": [],
   "source": []
  }
 ],
 "metadata": {
  "kernelspec": {
   "display_name": "Python 3 (ipykernel)",
   "language": "python",
   "name": "python3"
  },
  "language_info": {
   "codemirror_mode": {
    "name": "ipython",
    "version": 3
   },
   "file_extension": ".py",
   "mimetype": "text/x-python",
   "name": "python",
   "nbconvert_exporter": "python",
   "pygments_lexer": "ipython3",
   "version": "3.11.5"
  }
 },
 "nbformat": 4,
 "nbformat_minor": 5
}
