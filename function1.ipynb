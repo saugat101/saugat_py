{
 "cells": [
  {
   "cell_type": "code",
   "execution_count": 1,
   "id": "d174f25e",
   "metadata": {},
   "outputs": [
    {
     "name": "stdout",
     "output_type": "stream",
     "text": [
      "Enter length : 2\n",
      "Enter breadth3\n",
      "Area is :  6\n"
     ]
    }
   ],
   "source": [
    "def area():\n",
    "    l=int(input(\"Enter length : \"))\n",
    "    b=int(input(\"Enter breadth\"))\n",
    "    a=l*b\n",
    "    print(\"Area is : \",a)\n",
    "    \n",
    "area()"
   ]
  },
  {
   "cell_type": "code",
   "execution_count": 1,
   "id": "9df20485",
   "metadata": {},
   "outputs": [
    {
     "name": "stdout",
     "output_type": "stream",
     "text": [
      "Enter length : 2\n",
      "Enter breadth : 2\n",
      "Enter height : 2\n",
      "Volume is :  8\n"
     ]
    }
   ],
   "source": [
    "def volume():\n",
    "    l=int(input(\"Enter length : \"))  #local variable\n",
    "    b=int(input(\"Enter breadth : \"))\n",
    "    h=int(input(\"Enter height : \"))\n",
    "    v=l*b*h\n",
    "    print(\"Volume is : \",v)\n",
    "    \n",
    "volume()"
   ]
  },
  {
   "cell_type": "code",
   "execution_count": 2,
   "id": "12a71bcf",
   "metadata": {},
   "outputs": [],
   "source": [
    "# function without argumnt and no return type\n",
    "# function with argumnt and no return type\n",
    "# function without argumnt and return type\n",
    "# function with argumnt and return type"
   ]
  },
  {
   "cell_type": "code",
   "execution_count": 17,
   "id": "e5a2e863",
   "metadata": {},
   "outputs": [
    {
     "name": "stdout",
     "output_type": "stream",
     "text": [
      "Enter length : 10\n",
      "Enter breadth : 10\n",
      "Enter height : 10\n",
      "volume is :  1000\n"
     ]
    }
   ],
   "source": [
    "def volume(n):\n",
    "    a=n[0]\n",
    "    b=n[1]\n",
    "    c=n[2]\n",
    "    vol=a*b*c\n",
    "    print(\"volume is : \",vol)\n",
    "    \n",
    "l=int(input(\"Enter length : \"))\n",
    "b=int(input(\"Enter breadth : \"))\n",
    "h=int(input(\"Enter height : \"))\n",
    "k=(l,b,h) #tuple\n",
    "volume(k) #tuple as argument"
   ]
  },
  {
   "cell_type": "code",
   "execution_count": 18,
   "id": "ddec6091",
   "metadata": {},
   "outputs": [
    {
     "name": "stdout",
     "output_type": "stream",
     "text": [
      "C\n",
      "C++\n",
      "Java\n",
      "Python\n"
     ]
    }
   ],
   "source": [
    "def language(lan = \"Python\"):\n",
    "    print(lan)\n",
    "    \n",
    "language(\"C\")\n",
    "language(\"C++\")\n",
    "language(\"Java\")\n",
    "language()"
   ]
  },
  {
   "cell_type": "code",
   "execution_count": 19,
   "id": "06591544",
   "metadata": {},
   "outputs": [
    {
     "name": "stdout",
     "output_type": "stream",
     "text": [
      "('C', 'C++', 'Java')\n",
      "Python\n"
     ]
    }
   ],
   "source": [
    "def language(lan = \"Python\"):\n",
    "    print(lan)\n",
    "l = (\"C\",\"C++\",\"Java\")\n",
    "language(l)\n",
    "# language(\"C++\")\n",
    "# language(\"Java\")\n",
    "language()"
   ]
  },
  {
   "cell_type": "code",
   "execution_count": 21,
   "id": "9661c5d9",
   "metadata": {},
   "outputs": [
    {
     "name": "stdout",
     "output_type": "stream",
     "text": [
      "Enter l = 10\n",
      "Enter b = 4\n",
      "100\n"
     ]
    }
   ],
   "source": [
    "# argument\n",
    "def area(x,y=10):                  #parameter\n",
    "    a = x*y\n",
    "    print(a)\n",
    "\n",
    "l = int(input(\"Enter l = \"))    #global variable\n",
    "b = int(input(\"Enter b = \"))    #global variable\n",
    "area(l)                         #argument"
   ]
  },
  {
   "cell_type": "code",
   "execution_count": 22,
   "id": "9129fa90",
   "metadata": {},
   "outputs": [
    {
     "name": "stdout",
     "output_type": "stream",
     "text": [
      "Enter l = 10\n",
      "Enter b = 4\n",
      "40\n"
     ]
    }
   ],
   "source": [
    "# argument\n",
    "def area(y,x=10):                  #parameter\n",
    "    a = x*y\n",
    "    print(a)\n",
    "\n",
    "l = int(input(\"Enter l = \"))    #global variable\n",
    "b = int(input(\"Enter b = \"))    #global variable\n",
    "area(b,l)   "
   ]
  },
  {
   "cell_type": "code",
   "execution_count": null,
   "id": "258b24a8",
   "metadata": {},
   "outputs": [],
   "source": []
  }
 ],
 "metadata": {
  "kernelspec": {
   "display_name": "Python 3 (ipykernel)",
   "language": "python",
   "name": "python3"
  },
  "language_info": {
   "codemirror_mode": {
    "name": "ipython",
    "version": 3
   },
   "file_extension": ".py",
   "mimetype": "text/x-python",
   "name": "python",
   "nbconvert_exporter": "python",
   "pygments_lexer": "ipython3",
   "version": "3.11.5"
  }
 },
 "nbformat": 4,
 "nbformat_minor": 5
}
